{
 "cells": [
  {
   "cell_type": "markdown",
   "metadata": {
    "Collapsed": "false",
    "slideshow": {
     "slide_type": "slide"
    }
   },
   "source": [
    "<center>\n",
    "    \n",
    "# 构建你的第一个人工智能项目\n",
    "    \n",
    "</center>"
   ]
  },
  {
   "cell_type": "markdown",
   "metadata": {
    "Collapsed": "false",
    "slideshow": {
     "slide_type": "fragment"
    }
   },
   "source": [
    "    \n",
    "<br>\n",
    "<br>\n",
    "\n",
    "</center>\n",
    "\n",
    "<div class=\"alert alert-block alert-success\">  \n",
    " <b>Version:</b> v1.0 <b>Date:</b> 2020-08-15 \n",
    "    \n",
    "在本课程中，我们将着手构建一个端到端的人工智能项目，回顾前述课程学习的内容，通过动手实践来强化对相关概念和知识的认识及了解。 \n",
    "希望对你未来的工作会有所帮助。\n",
    "   \n",
    " ——高 冲\n",
    "</div>"
   ]
  },
  {
   "cell_type": "markdown",
   "metadata": {
    "Collapsed": "false",
    "slideshow": {
     "slide_type": "slide"
    }
   },
   "source": [
    "# 背景"
   ]
  },
  {
   "cell_type": "markdown",
   "metadata": {
    "Collapsed": "false",
    "slideshow": {
     "slide_type": "-"
    }
   },
   "source": [
    "<br>\n",
    "<div class=\"alert alert-block alert-danger\">  \n",
    "<b>为什么会有这么一个课程？</b>\n",
    "    \n",
    "- 人工智能是一门以实验为导向的学科；\n",
    "- 我也是由于对AI本身充满兴趣，逐步学习和实践过来的，分享一些经验\n",
    "</div>"
   ]
  },
  {
   "cell_type": "markdown",
   "metadata": {
    "Collapsed": "false",
    "slideshow": {
     "slide_type": "subslide"
    }
   },
   "source": [
    "<br>\n",
    "<div class=\"alert alert-block alert-danger\">  \n",
    "<b>什么是一个端到端的人工智能项目？</b>\n",
    "    \n",
    "- 中台 or pipeline？\n",
    "- 最佳实践有套路么？\n",
    "- 我们只有一上午的时间\n",
    "   \n",
    "</div>"
   ]
  },
  {
   "cell_type": "markdown",
   "metadata": {
    "Collapsed": "false",
    "slideshow": {
     "slide_type": "subslide"
    }
   },
   "source": [
    "<br>\n",
    "<div class=\"alert alert-block alert-danger\">  \n",
    "<b>世界上每年有85%的AI项目最终以失败收场*，为什么？</b>\n",
    "    \n",
    "- 希望这节课能够引起你的更多思考\n",
    "\n",
    "'* Pactera Technologies\n",
    "    \n",
    "    \n",
    "<details>\n",
    "    \n",
    "- ML is still research, therefore it is very challenging to aim for 100% success rate.\n",
    "    \n",
    "- Many ML projects are technically infeasible or poorly scoped.\n",
    "    \n",
    "- Many ML projects never make the leap into production.\n",
    "    \n",
    "- Many ML projects have unclear success criteria.\n",
    "    \n",
    "- Many ML projects are poorly managed.\n",
    "    \n",
    "</details>\n",
    "    \n",
    "</div>"
   ]
  },
  {
   "cell_type": "markdown",
   "metadata": {
    "Collapsed": "false",
    "slideshow": {
     "slide_type": "fragment"
    }
   },
   "source": [
    "- 介绍助教👩‍🎓👨‍🎓"
   ]
  },
  {
   "cell_type": "markdown",
   "metadata": {
    "Collapsed": "false",
    "slideshow": {
     "slide_type": "slide"
    }
   },
   "source": [
    "# 目标"
   ]
  },
  {
   "cell_type": "markdown",
   "metadata": {
    "Collapsed": "false",
    "slideshow": {
     "slide_type": "fragment"
    }
   },
   "source": [
    "- 知识回顾"
   ]
  },
  {
   "cell_type": "markdown",
   "metadata": {
    "Collapsed": "false",
    "slideshow": {
     "slide_type": "fragment"
    }
   },
   "source": [
    "- 动手搭建一个端到端的人工智能项目"
   ]
  },
  {
   "cell_type": "markdown",
   "metadata": {
    "Collapsed": "false",
    "slideshow": {
     "slide_type": "slide"
    }
   },
   "source": [
    "# 要求"
   ]
  },
  {
   "cell_type": "markdown",
   "metadata": {
    "Collapsed": "false",
    "slideshow": {
     "slide_type": "fragment"
    }
   },
   "source": [
    "- 动手实验，动起手来"
   ]
  },
  {
   "cell_type": "markdown",
   "metadata": {
    "Collapsed": "false",
    "slideshow": {
     "slide_type": "fragment"
    }
   },
   "source": [
    "- 遇到任何问题，不要犹豫，尽管讨论"
   ]
  },
  {
   "cell_type": "markdown",
   "metadata": {
    "Collapsed": "false",
    "slideshow": {
     "slide_type": "slide"
    }
   },
   "source": [
    "# 提问"
   ]
  },
  {
   "cell_type": "markdown",
   "metadata": {
    "Collapsed": "false",
    "slideshow": {
     "slide_type": "fragment"
    }
   },
   "source": [
    "- 在坐的同学们，有谁尝试进行过神经网络的训练，或写过AI的模型？\n",
    "- 这个过程中，最痛苦的事情是什么？"
   ]
  },
  {
   "cell_type": "markdown",
   "metadata": {
    "Collapsed": "false",
    "slideshow": {
     "slide_type": "slide"
    }
   },
   "source": [
    "# 人工智能实训平台\n",
    "# http://ailab.shaiic.com:8000/"
   ]
  },
  {
   "cell_type": "markdown",
   "metadata": {
    "Collapsed": "false"
   },
   "source": [
    "## Dokcer HUB地址\n",
    "`docker pull ddebby/fastai2:v0.0.17.2`\n",
    "\n",
    "## github地址\n",
    "\n",
    "`git clone git@github.com:ddebby/First_AI_Project.git`"
   ]
  }
 ],
 "metadata": {
  "celltoolbar": "幻灯片",
  "kernelspec": {
   "display_name": "FastAi2",
   "language": "python",
   "name": "fastai2"
  },
  "language_info": {
   "codemirror_mode": {
    "name": "ipython",
    "version": 3
   },
   "file_extension": ".py",
   "mimetype": "text/x-python",
   "name": "python",
   "nbconvert_exporter": "python",
   "pygments_lexer": "ipython3",
   "version": "3.7.4"
  },
  "toc": {
   "base_numbering": 1,
   "nav_menu": {},
   "number_sections": false,
   "sideBar": true,
   "skip_h1_title": false,
   "title_cell": "Table of Contents",
   "title_sidebar": "Contents",
   "toc_cell": false,
   "toc_position": {},
   "toc_section_display": true,
   "toc_window_display": false
  }
 },
 "nbformat": 4,
 "nbformat_minor": 4
}
